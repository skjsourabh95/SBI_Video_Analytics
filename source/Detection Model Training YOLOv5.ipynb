{
 "cells": [
  {
   "cell_type": "code",
   "execution_count": null,
   "id": "9640278d",
   "metadata": {},
   "outputs": [],
   "source": [
    "!git clone https://github.com/ultralytics/yolov5 "
   ]
  },
  {
   "cell_type": "code",
   "execution_count": null,
   "id": "3ead19ab",
   "metadata": {},
   "outputs": [],
   "source": [
    "!pip install -U -r yolov5/requirements.txt "
   ]
  },
  {
   "cell_type": "code",
   "execution_count": null,
   "id": "4a611e1d",
   "metadata": {},
   "outputs": [],
   "source": [
    "%cd yolov5"
   ]
  },
  {
   "cell_type": "code",
   "execution_count": null,
   "id": "c8888528",
   "metadata": {},
   "outputs": [],
   "source": [
    "import torch\n",
    "from IPython.display import Image  # for displaying images\n",
    "print('torch %s %s' % (torch.__version__, torch.cuda.get_device_properties(0) if torch.cuda.is_available() else 'CPU'))"
   ]
  },
  {
   "cell_type": "code",
   "execution_count": null,
   "id": "53514d06",
   "metadata": {
    "scrolled": true
   },
   "outputs": [],
   "source": [
    "# https://app.roboflow.com/ds/azOMQ8HlGj?key=ZczUoFZvPL\n",
    "!pip install roboflow\n",
    "\n",
    "from roboflow import Roboflow\n",
    "rf = Roboflow(api_key=\"1nVaN4OWpCiSxFHEUHEM\")\n",
    "project = rf.workspace(\"techgig\").project(\"fire-theft\")\n",
    "dataset = project.version(6).download(\"yolov5\")"
   ]
  },
  {
   "cell_type": "code",
   "execution_count": null,
   "id": "9fb5623a",
   "metadata": {},
   "outputs": [],
   "source": [
    "import cv2\n",
    "# show the dimensions of the images in the dataset\n",
    "img = cv2.imread('/Users/skj/Projects/Techgig/SBI/Video Analytics/source/yolov5/Fire-Theft-6/train/images/1_jpeg_jpg.rf.530c9ffc1d02bba6868a01986fe39b29.jpg', cv2.IMREAD_UNCHANGED)\n",
    "dimensions = img.shape\n",
    "# height, width, number of channels in image\n",
    "height = img.shape[0]\n",
    "width = img.shape[1]\n",
    "channels = img.shape[2]\n",
    "\n",
    "print('Image Dimension    : ',dimensions)\n",
    "print('Image Height       : ',height)\n",
    "print('Image Width        : ',width)\n",
    "print('Number of Channels : ',channels)"
   ]
  },
  {
   "cell_type": "markdown",
   "id": "3a58bd9f",
   "metadata": {},
   "source": [
    "move the 'data.yaml' file to \"yolov5/data/\" folder.\n",
    "\n",
    "open the \"yolov5/models/yolov5x.yaml\" and change the \"nc\" variable from 80 to 2 (number of classes) and save the changes."
   ]
  },
  {
   "cell_type": "code",
   "execution_count": null,
   "id": "8fc216e6",
   "metadata": {},
   "outputs": [],
   "source": [
    "# !python train.py --img 420- --batch 16 --epochs 50 --data ./data/data.yaml --cfg ./models/yolov5x.yaml --weights yolov5x.pt --name fire-theft"
   ]
  },
  {
   "cell_type": "code",
   "execution_count": null,
   "id": "6ca4718b",
   "metadata": {},
   "outputs": [],
   "source": [
    "# view some predictions\n",
    "# img = cv2.imread('/content/yolov5/runs/train/yolov5x_weapon2/val_batch2_pred.jpg', cv2.IMREAD_UNCHANGED)\n",
    "# plt.imshow(img)"
   ]
  },
  {
   "cell_type": "code",
   "execution_count": null,
   "id": "c57fd472",
   "metadata": {},
   "outputs": [],
   "source": [
    "# import cv2\n",
    "# img = cv2.imread('/Users/skj/ML Projects/Techgig/SBI/Video Analytics/Weapon Detection/yolov5/runs/train/yolov5x_weapon/val_batch2_pred.jpg', cv2.IMREAD_UNCHANGED)\n",
    "# plt.imshow(img)"
   ]
  },
  {
   "cell_type": "code",
   "execution_count": null,
   "id": "933c7ea1",
   "metadata": {
    "scrolled": true
   },
   "outputs": [],
   "source": [
    "# !python detect.py --weights last.pt --img 416 --conf 0.4 --source ../../bank.mp4"
   ]
  },
  {
   "cell_type": "code",
   "execution_count": null,
   "id": "e3dda28b",
   "metadata": {},
   "outputs": [],
   "source": [
    "# YOLOv5 🚀 v6.1-258-g1156a32 Python-3.7.13 torch-1.11.0+cu113 CUDA:0 (Tesla T4, 15110MiB)\n",
    "\n",
    "\n",
    "# hyperparameters: lr0=0.01, lrf=0.01, momentum=0.937, weight_decay=0.0005, warmup_epochs=3.0, warmup_momentum=0.8, warmup_bias_lr=0.1, box=0.05, cls=0.5, cls_pw=1.0, obj=1.0, obj_pw=1.0, iou_t=0.2, anchor_t=4.0, fl_gamma=0.0, hsv_h=0.015, hsv_s=0.7, hsv_v=0.4, degrees=0.0, translate=0.1, scale=0.5, shear=0.0, perspective=0.0, flipud=0.0, fliplr=0.5, mosaic=1.0, mixup=0.0, copy_paste=0.0\n",
    "# optimizer: SGD with parameter groups 123 weight (no decay), 126 weight, 126 bias\n",
    "    \n",
    "# Image sizes 448 train, 448 val\n",
    "# Starting training for 50 epochs...\n",
    "# 50 epochs completed in 0.920 hours.\n",
    "\n",
    "# Class     Images     Labels          P          R     mAP@.5 \n",
    "#  all         50         86      0.927      0.901      0.939 \n",
    "#  gun         50         13      0.961          1      0.995     \n",
    "# fire         50         73      0.893      0.803      0.882      \n",
    "\n",
    "# Results saved to runs/train/fire-theft"
   ]
  }
 ],
 "metadata": {
  "kernelspec": {
   "display_name": "Python 3",
   "language": "python",
   "name": "python3"
  },
  "language_info": {
   "codemirror_mode": {
    "name": "ipython",
    "version": 3
   },
   "file_extension": ".py",
   "mimetype": "text/x-python",
   "name": "python",
   "nbconvert_exporter": "python",
   "pygments_lexer": "ipython3",
   "version": "3.8.11"
  }
 },
 "nbformat": 4,
 "nbformat_minor": 5
}
